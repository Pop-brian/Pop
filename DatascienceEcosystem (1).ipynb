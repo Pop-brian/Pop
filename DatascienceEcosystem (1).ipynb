{
 "cells": [
  {
   "cell_type": "markdown",
   "id": "afb0a267-8be4-4dc8-8056-6e04f27dd914",
   "metadata": {},
   "source": [
    "# Data Science Tools and Ecosystem"
   ]
  },
  {
   "cell_type": "markdown",
   "id": "1edd4fcf-c8ac-43d3-956e-bd7387c81410",
   "metadata": {},
   "source": [
    "In this Notebook, Data Science tools and Ecosystem are summarized"
   ]
  },
  {
   "cell_type": "markdown",
   "id": "5a096ff2-a3ee-4ab1-9cdc-daa6216b1b28",
   "metadata": {},
   "source": [
    "**Objectives:**\n",
    "- List popular languages for Data Science\n",
    "- List commonly used libraries for Data Science\n",
    "- List Data Science tools\n",
    "- Arithmetic expressions in Python"
   ]
  },
  {
   "cell_type": "markdown",
   "id": "c77efbff-55b2-4112-8a09-fff268d4c405",
   "metadata": {},
   "source": [
    "Some of the popular languages Data Scientists use are:\n",
    "1. Python\n",
    "2. R language\n",
    "3. SQL\n"
   ]
  },
  {
   "cell_type": "markdown",
   "id": "242173b0-7c1b-4dd9-9cce-46fcae64899d",
   "metadata": {},
   "source": [
    "Some of the commonly used libraries used by Data Scientists include:\n",
    "\n",
    "1. numPy\n",
    "2. Pandas\n",
    "3. Matplotlib\n"
   ]
  },
  {
   "cell_type": "markdown",
   "id": "c4a61f4b-55ad-4292-ac8f-d58cf1759a3a",
   "metadata": {},
   "source": [
    "|Data Science Tools|\n",
    "|------------------|\n",
    "|Git |\n",
    "|Rstudio|\n",
    "|Jupiter Notebooks|"
   ]
  },
  {
   "cell_type": "markdown",
   "id": "661c4f88-cc1e-4856-a167-c88d2f0e4c1c",
   "metadata": {},
   "source": [
    "###  Below are a few examples evaluating arithmetic expressions in Python"
   ]
  },
  {
   "cell_type": "code",
   "execution_count": 1,
   "id": "ce0a8e4f-e4b9-4498-aba1-9d3df46cc673",
   "metadata": {},
   "outputs": [
    {
     "data": {
      "text/plain": [
       "17"
      ]
     },
     "execution_count": 1,
     "metadata": {},
     "output_type": "execute_result"
    }
   ],
   "source": [
    "#This a simple arithmetic expression to multiply then add intergers\n",
    "(3*4)+5"
   ]
  },
  {
   "cell_type": "code",
   "execution_count": 8,
   "id": "94cdc860-ec24-4ce2-a5cf-2b10c43393d5",
   "metadata": {
    "scrolled": true
   },
   "outputs": [
    {
     "data": {
      "text/plain": [
       "3"
      ]
     },
     "execution_count": 8,
     "metadata": {},
     "output_type": "execute_result"
    }
   ],
   "source": [
    "#This will covert 200minutes to hours by dividing by 60\n",
    "200 // 60"
   ]
  },
  {
   "cell_type": "markdown",
   "id": "197414ce-fdab-47a4-bef5-6928b1e13c64",
   "metadata": {},
   "source": [
    "## Author\n",
    "Wambuku Brian Kinyanjui"
   ]
  },
  {
   "cell_type": "code",
   "execution_count": null,
   "id": "a8213a09-1d11-478d-9bea-18befa15798c",
   "metadata": {},
   "outputs": [],
   "source": []
  }
 ],
 "metadata": {
  "kernelspec": {
   "display_name": "Python 3 (ipykernel)",
   "language": "python",
   "name": "python3"
  },
  "language_info": {
   "codemirror_mode": {
    "name": "ipython",
    "version": 3
   },
   "file_extension": ".py",
   "mimetype": "text/x-python",
   "name": "python",
   "nbconvert_exporter": "python",
   "pygments_lexer": "ipython3",
   "version": "3.12.8"
  }
 },
 "nbformat": 4,
 "nbformat_minor": 5
}
